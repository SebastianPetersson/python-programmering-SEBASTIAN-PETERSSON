{
 "cells": [
  {
   "cell_type": "markdown",
   "id": "ad387420",
   "metadata": {},
   "source": [
    "# \"Big ideas\" in programming"
   ]
  },
  {
   "cell_type": "markdown",
   "id": "f5a02c1e",
   "metadata": {},
   "source": [
    "\"Logical thinking\"\n",
    "Formal language and syntax\n",
    "Variables and constants\n",
    "Parameters\n",
    "Flow control\n",
    "Function, process, method\n",
    "Algorithm\n",
    "Data structures\n",
    "Composition/Decomposition\n",
    "Reusability (DRY)"
   ]
  },
  {
   "cell_type": "markdown",
   "id": "8917ac6b",
   "metadata": {},
   "source": [
    "ax^2 + bx + c = 0\n",
    "x^2 + 2x + 1 = 0\n",
    "x^2 + px + q = 0\n",
    "x = -(p/2) +- roten ur (p/2)^2 - q"
   ]
  },
  {
   "cell_type": "code",
   "execution_count": 9,
   "id": "011752c2",
   "metadata": {},
   "outputs": [
    {
     "ename": "TypeError",
     "evalue": "bad operand type for unary -: 'list'",
     "output_type": "error",
     "traceback": [
      "\u001b[31m---------------------------------------------------------------------------\u001b[39m",
      "\u001b[31mTypeError\u001b[39m                                 Traceback (most recent call last)",
      "\u001b[36mCell\u001b[39m\u001b[36m \u001b[39m\u001b[32mIn[9]\u001b[39m\u001b[32m, line 13\u001b[39m\n\u001b[32m     10\u001b[39m     x1 = np.divide(-b - np.sqrt(np.square(b) - \u001b[32m4\u001b[39m*a*c), \u001b[32m2\u001b[39m*a)\n\u001b[32m     11\u001b[39m     \u001b[38;5;28;01mreturn\u001b[39;00m x0, x1\n\u001b[32m---> \u001b[39m\u001b[32m13\u001b[39m \u001b[38;5;28mprint\u001b[39m(\u001b[43mquadratic_solver\u001b[49m\u001b[43m(\u001b[49m\u001b[43mq_term\u001b[49m\u001b[43m)\u001b[49m)\n",
      "\u001b[36mCell\u001b[39m\u001b[36m \u001b[39m\u001b[32mIn[9]\u001b[39m\u001b[32m, line 9\u001b[39m, in \u001b[36mquadratic_solver\u001b[39m\u001b[34m(coeff)\u001b[39m\n\u001b[32m      7\u001b[39m \u001b[38;5;28;01mdef\u001b[39;00m\u001b[38;5;250m \u001b[39m\u001b[34mquadratic_solver\u001b[39m(coeff):\n\u001b[32m      8\u001b[39m     c, b, a = coeff\n\u001b[32m----> \u001b[39m\u001b[32m9\u001b[39m     x0 = np.divide(\u001b[43m-\u001b[49m\u001b[43mb\u001b[49m + np.sqrt(np.square(b) - \u001b[32m4\u001b[39m*a*c), \u001b[32m2\u001b[39m*a)\n\u001b[32m     10\u001b[39m     x1 = np.divide(-b - np.sqrt(np.square(b) - \u001b[32m4\u001b[39m*a*c), \u001b[32m2\u001b[39m*a)\n\u001b[32m     11\u001b[39m     \u001b[38;5;28;01mreturn\u001b[39;00m x0, x1\n",
      "\u001b[31mTypeError\u001b[39m: bad operand type for unary -: 'list'"
     ]
    }
   ],
   "source": [
    "import numpy as np\n",
    "\n",
    "q_term = [[1,1,1],\n",
    "          [2,2,2],\n",
    "          [3,3,3]]\n",
    "\n",
    "def quadratic_solver(coeff):\n",
    "    c, b, a = coeff\n",
    "    x0 = np.divide(-b + np.sqrt(np.square(b) - 4*a*c), 2*a)\n",
    "    x1 = np.divide(-b - np.sqrt(np.square(b) - 4*a*c), 2*a)\n",
    "    return x0, x1\n",
    "\n",
    "print(quadratic_solver(q_term))"
   ]
  },
  {
   "cell_type": "code",
   "execution_count": 10,
   "id": "67c73bc1",
   "metadata": {},
   "outputs": [
    {
     "name": "stdout",
     "output_type": "stream",
     "text": [
      "Year 2016 is the first year that pasta consumption is predicted to reach 15 kg.\n"
     ]
    }
   ],
   "source": [
    "# year 0 = 1960\n",
    "for year in range(1000):\n",
    "    pasta_consumption = .791*np.exp(.0526*year)\n",
    "    if pasta_consumption > 15:\n",
    "        print(f\"Year {year+1960} is the first year that pasta consumption is predicted to reach 15 kg.\")\n",
    "        break"
   ]
  },
  {
   "cell_type": "code",
   "execution_count": 11,
   "id": "e916375c",
   "metadata": {},
   "outputs": [
    {
     "data": {
      "text/plain": [
       "Text(0.5, 1.0, 'Pasta consumption in kg per person per year from 1960.')"
      ]
     },
     "execution_count": 11,
     "metadata": {},
     "output_type": "execute_result"
    },
    {
     "data": {
      "image/png": "[encoded data removed]",
      "text/plain": [
       "<Figure size 640x480 with 1 Axes>"
      ]
     },
     "metadata": {},
     "output_type": "display_data"
    }
   ],
   "source": [
    "import matplotlib.pyplot as plt\n",
    "\n",
    "pasta_per_year = []\n",
    "\n",
    "for year in range(140):\n",
    "    pasta_consumption = .791*np.exp(.0526*year)\n",
    "    pasta_per_year.append(pasta_consumption)\n",
    "\n",
    "plt.plot(range(1960,2100), pasta_per_year)\n",
    "plt.xlabel(\"Year\")\n",
    "plt.ylabel(\"Pasta in kg\")\n",
    "plt.title(\"Pasta consumption in kg per person per year from 1960.\")\n",
    "\n"
   ]
  },
  {
   "cell_type": "code",
   "execution_count": 18,
   "id": "cadaf3de",
   "metadata": {},
   "outputs": [
    {
     "name": "stdout",
     "output_type": "stream",
     "text": [
      "[1, 3, (3, 4, 5)]\n"
     ]
    },
    {
     "data": {
      "text/plain": [
       "['__add__',\n",
       " '__class__',\n",
       " '__class_getitem__',\n",
       " '__contains__',\n",
       " '__delattr__',\n",
       " '__delitem__',\n",
       " '__dir__',\n",
       " '__doc__',\n",
       " '__eq__',\n",
       " '__format__',\n",
       " '__ge__',\n",
       " '__getattribute__',\n",
       " '__getitem__',\n",
       " '__getstate__',\n",
       " '__gt__',\n",
       " '__hash__',\n",
       " '__iadd__',\n",
       " '__imul__',\n",
       " '__init__',\n",
       " '__init_subclass__',\n",
       " '__iter__',\n",
       " '__le__',\n",
       " '__len__',\n",
       " '__lt__',\n",
       " '__mul__',\n",
       " '__ne__',\n",
       " '__new__',\n",
       " '__reduce__',\n",
       " '__reduce_ex__',\n",
       " '__repr__',\n",
       " '__reversed__',\n",
       " '__rmul__',\n",
       " '__setattr__',\n",
       " '__setitem__',\n",
       " '__sizeof__',\n",
       " '__str__',\n",
       " '__subclasshook__',\n",
       " 'append',\n",
       " 'clear',\n",
       " 'copy',\n",
       " 'count',\n",
       " 'extend',\n",
       " 'index',\n",
       " 'insert',\n",
       " 'pop',\n",
       " 'remove',\n",
       " 'reverse',\n",
       " 'sort']"
      ]
     },
     "execution_count": 18,
     "metadata": {},
     "output_type": "execute_result"
    }
   ],
   "source": [
    "a: list = [1,2,3,4]\n",
    "\n",
    "a.pop()\n",
    "a.pop()\n",
    "a.append(3)\n",
    "a.append((3,4,5))\n",
    "a.pop(1)\n",
    "print(a)\n",
    "dir(a)"
   ]
  },
  {
   "cell_type": "code",
   "execution_count": 47,
   "id": "3b8a2a5d",
   "metadata": {},
   "outputs": [
    {
     "data": {
      "text/plain": [
       "['__abs__',\n",
       " '__add__',\n",
       " '__and__',\n",
       " '__bool__',\n",
       " '__ceil__',\n",
       " '__class__',\n",
       " '__delattr__',\n",
       " '__dir__',\n",
       " '__divmod__',\n",
       " '__doc__',\n",
       " '__eq__',\n",
       " '__float__',\n",
       " '__floor__',\n",
       " '__floordiv__',\n",
       " '__format__',\n",
       " '__ge__',\n",
       " '__getattribute__',\n",
       " '__getnewargs__',\n",
       " '__getstate__',\n",
       " '__gt__',\n",
       " '__hash__',\n",
       " '__index__',\n",
       " '__init__',\n",
       " '__init_subclass__',\n",
       " '__int__',\n",
       " '__invert__',\n",
       " '__le__',\n",
       " '__lshift__',\n",
       " '__lt__',\n",
       " '__mod__',\n",
       " '__mul__',\n",
       " '__ne__',\n",
       " '__neg__',\n",
       " '__new__',\n",
       " '__or__',\n",
       " '__pos__',\n",
       " '__pow__',\n",
       " '__radd__',\n",
       " '__rand__',\n",
       " '__rdivmod__',\n",
       " '__reduce__',\n",
       " '__reduce_ex__',\n",
       " '__repr__',\n",
       " '__rfloordiv__',\n",
       " '__rlshift__',\n",
       " '__rmod__',\n",
       " '__rmul__',\n",
       " '__ror__',\n",
       " '__round__',\n",
       " '__rpow__',\n",
       " '__rrshift__',\n",
       " '__rshift__',\n",
       " '__rsub__',\n",
       " '__rtruediv__',\n",
       " '__rxor__',\n",
       " '__setattr__',\n",
       " '__sizeof__',\n",
       " '__str__',\n",
       " '__sub__',\n",
       " '__subclasshook__',\n",
       " '__truediv__',\n",
       " '__trunc__',\n",
       " '__xor__',\n",
       " 'as_integer_ratio',\n",
       " 'bit_count',\n",
       " 'bit_length',\n",
       " 'conjugate',\n",
       " 'denominator',\n",
       " 'from_bytes',\n",
       " 'imag',\n",
       " 'is_integer',\n",
       " 'numerator',\n",
       " 'real',\n",
       " 'to_bytes']"
      ]
     },
     "execution_count": 47,
     "metadata": {},
     "output_type": "execute_result"
    }
   ],
   "source": [
    "a = int(1)\n",
    "\n",
    "dir(a)"
   ]
  },
  {
   "cell_type": "code",
   "execution_count": null,
   "id": "f2f7e231",
   "metadata": {},
   "outputs": [
    {
     "name": "stdout",
     "output_type": "stream",
     "text": [
      "<class 'float'>\n",
      "<class 'int'>\n",
      "empty\n",
      "yes\n"
     ]
    }
   ],
   "source": [
    "a = 1.0\n",
    "print(type(a))\n",
    "b = int(a)\n",
    "print(type(b))\n",
    "\n",
    "c: bool = True\n",
    "d: bool = False\n",
    "\n",
    "e1 = None\n",
    "\n",
    "if (e1 is None):\n",
    "    print('empty')\n",
    "\n",
    "    a = 1\n",
    "\n",
    "    if (a):\n",
    "        print('yes')\n",
    "\n",
    "if(\"\"):\n",
    "    print('asfg') # Tom sträng är falsy, icke-tom sträng är Truthy\n",
    "\n"
   ]
  },
  {
   "cell_type": "code",
   "execution_count": null,
   "id": "80a98ed3",
   "metadata": {},
   "outputs": [
    {
     "name": "stdout",
     "output_type": "stream",
     "text": [
      "1\n",
      "2\n"
     ]
    },
    {
     "data": {
      "text/plain": [
       "False"
      ]
     },
     "execution_count": 62,
     "metadata": {},
     "output_type": "execute_result"
    }
   ],
   "source": [
    "#SET\n",
    "\n",
    "a: set = set()\n",
    "dir(a)\n",
    "a.add(1)\n",
    "a\n",
    "a.add(1)\n",
    "a.add(2)\n",
    "a\n",
    "for i in a:\n",
    "    print(i)\n",
    "\n",
    "1 in a\n",
    "3 in a\n",
    "\n",
    "#Ett set är ett dictionary med bara nycklar.\n",
    "\n"
   ]
  },
  {
   "cell_type": "code",
   "execution_count": 80,
   "id": "475ff199",
   "metadata": {},
   "outputs": [
    {
     "name": "stdout",
     "output_type": "stream",
     "text": [
      "====================================================================================================\n",
      "{'key': 'value'}\n"
     ]
    },
    {
     "data": {
      "text/plain": [
       "['__class__',\n",
       " '__class_getitem__',\n",
       " '__contains__',\n",
       " '__delattr__',\n",
       " '__delitem__',\n",
       " '__dir__',\n",
       " '__doc__',\n",
       " '__eq__',\n",
       " '__format__',\n",
       " '__ge__',\n",
       " '__getattribute__',\n",
       " '__getitem__',\n",
       " '__getstate__',\n",
       " '__gt__',\n",
       " '__hash__',\n",
       " '__init__',\n",
       " '__init_subclass__',\n",
       " '__ior__',\n",
       " '__iter__',\n",
       " '__le__',\n",
       " '__len__',\n",
       " '__lt__',\n",
       " '__ne__',\n",
       " '__new__',\n",
       " '__or__',\n",
       " '__reduce__',\n",
       " '__reduce_ex__',\n",
       " '__repr__',\n",
       " '__reversed__',\n",
       " '__ror__',\n",
       " '__setattr__',\n",
       " '__setitem__',\n",
       " '__sizeof__',\n",
       " '__str__',\n",
       " '__subclasshook__',\n",
       " 'clear',\n",
       " 'copy',\n",
       " 'fromkeys',\n",
       " 'get',\n",
       " 'items',\n",
       " 'keys',\n",
       " 'pop',\n",
       " 'popitem',\n",
       " 'setdefault',\n",
       " 'update',\n",
       " 'values']"
      ]
     },
     "execution_count": 80,
     "metadata": {},
     "output_type": "execute_result"
    }
   ],
   "source": [
    "# a = {}\n",
    "\n",
    "# b = {1,2,3}\n",
    "\n",
    "# c = set()\n",
    "\n",
    "# print(type(a))\n",
    "# print(type(b))\n",
    "# print(type(c))\n",
    "\n",
    "print(f\"{'='*100}\")\n",
    "\n",
    "a = dict()\n",
    "\n",
    "a['key'] = 'value'\n",
    "\n",
    "print(a)\n",
    "\n",
    "dir(a)\n"
   ]
  },
  {
   "cell_type": "code",
   "execution_count": 83,
   "id": "543b7a76",
   "metadata": {},
   "outputs": [
    {
     "name": "stdout",
     "output_type": "stream",
     "text": [
      "Key=1, value=a\n",
      "Key=2, value=b\n"
     ]
    }
   ],
   "source": [
    "a = {1: 'a', 2: 'b'}\n",
    "\n",
    "for k in a:\n",
    "    print(f\"Key={k}, value={a[k]}\")"
   ]
  },
  {
   "cell_type": "code",
   "execution_count": null,
   "id": "9e330c9a",
   "metadata": {},
   "outputs": [
    {
     "name": "stdout",
     "output_type": "stream",
     "text": [
      "{\"key\": \"value\"}\n"
     ]
    }
   ],
   "source": [
    "import json\n",
    "\n",
    "json_str: str = '{\"key\":\"value\"}'\n",
    "\n",
    "json_dict = json.loads(json_str)\n",
    "\n",
    "\n",
    "print(json.dumps(json_dict))\n",
    "\n",
    "#KOLLA .loads och .dumps samt användningsområden!!\n"
   ]
  },
  {
   "cell_type": "code",
   "execution_count": null,
   "id": "b3cdd6ef",
   "metadata": {},
   "outputs": [],
   "source": [
    "#TUPLER\n",
    "\n",
    "a: tuple = (1,2,3,4)\n",
    "\n",
    "dir(a)"
   ]
  },
  {
   "cell_type": "code",
   "execution_count": null,
   "id": "9fd62542",
   "metadata": {},
   "outputs": [
    {
     "data": {
      "text/plain": [
       "1"
      ]
     },
     "execution_count": 103,
     "metadata": {},
     "output_type": "execute_result"
    }
   ],
   "source": [
    "a.count(2)\n",
    "\n",
    "#MEMOISERING"
   ]
  },
  {
   "cell_type": "code",
   "execution_count": 146,
   "id": "7ab7f3fe",
   "metadata": {},
   "outputs": [
    {
     "name": "stdout",
     "output_type": "stream",
     "text": [
      "['a', 'a', 'a', 'a', 'a', 'a', 'a', 'a', 'a', 'a']\n"
     ]
    }
   ],
   "source": [
    "import random as rnd\n",
    "\n",
    "\n",
    "a = ['a' for _ in range(10)]\n",
    "\n",
    "print(a)"
   ]
  },
  {
   "cell_type": "code",
   "execution_count": 171,
   "id": "b5370890",
   "metadata": {},
   "outputs": [
    {
     "data": {
      "text/plain": [
       "{0: 3, 1: 2, 2: 6, 3: 7, 4: 2, 5: 5, 6: 7, 7: 5, 8: 3, 9: 5}"
      ]
     },
     "execution_count": 171,
     "metadata": {},
     "output_type": "execute_result"
    }
   ],
   "source": [
    "a = {k:rnd.randint(2,7) for k in range(10)}\n",
    "a"
   ]
  },
  {
   "cell_type": "code",
   "execution_count": 174,
   "id": "99cd57af",
   "metadata": {},
   "outputs": [
    {
     "data": {
      "text/plain": [
       "{'a'}"
      ]
     },
     "execution_count": 174,
     "metadata": {},
     "output_type": "execute_result"
    }
   ],
   "source": [
    "a = {'a' for _ in range(10)}\n",
    "a"
   ]
  }
 ],
 "metadata": {
  "kernelspec": {
   "display_name": "Python 3",
   "language": "python",
   "name": "python3"
  },
  "language_info": {
   "codemirror_mode": {
    "name": "ipython",
    "version": 3
   },
   "file_extension": ".py",
   "mimetype": "text/x-python",
   "name": "python",
   "nbconvert_exporter": "python",
   "pygments_lexer": "ipython3",
   "version": "3.13.7"
  }
 },
 "nbformat": 4,
 "nbformat_minor": 5
}
