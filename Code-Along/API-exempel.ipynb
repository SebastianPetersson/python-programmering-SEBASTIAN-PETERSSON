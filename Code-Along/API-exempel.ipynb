{
 "cells": [
  {
   "cell_type": "code",
   "execution_count": null,
   "id": "367c1b3c",
   "metadata": {},
   "outputs": [],
   "source": [
    "import os\n",
    "from dotenv import load_dotenv\n",
    "import requests\n",
    "import pandas as pd\n",
    "\n",
    "load_dotenv()\n",
    "api_key = os.getenv(\"ALPHA_API_KEY\")\n",
    "\n",
    "symbols = [\"AAPL\", \"NVDA\"; \"TSLA\", \"IBM\"]\n",
    "stock_list = []\n",
    "\n",
    "for symbol in symbols:\n",
    "    function = \"TIME_SERIES_INTRADAY\"\n",
    "\n",
    "    url = \n",
    "    data =\n",
    "    df =\n",
    "    df =\n",
    "    stock_list.append(df)\n",
    "\n",
    "\n",
    "    "
   ]
  },
  {
   "cell_type": "code",
   "execution_count": null,
   "id": "2f5533a6",
   "metadata": {},
   "outputs": [],
   "source": [
    "import plotly.express as px\n",
    "\n"
   ]
  }
 ],
 "metadata": {
  "language_info": {
   "name": "python"
  }
 },
 "nbformat": 4,
 "nbformat_minor": 5
}
