{
 "cells": [
  {
   "cell_type": "markdown",
   "id": "8ab676cd",
   "metadata": {},
   "source": [
    "Variabler och konstanter. \n",
    "\n",
    "Variabler är bitar av minne som innehåller tal. Vi tolkar talen beroende på vilken <em>typ</em> variabeln har. Konstanter är oföränderliga (immutable, dvs kan inte ändras efter de skapas."
   ]
  },
  {
   "cell_type": "code",
   "execution_count": null,
   "id": "a5e02ce2",
   "metadata": {},
   "outputs": [],
   "source": [
    "#Type hints are optional\n",
    "\n",
    "a: int = 42\n",
    "b: str = 'hejsan'\n",
    "c: list = [2, 3, 4]\n",
    "#Lists can have different objects in them, aka 'polytypic lists'.\n",
    "d: list = ['2', 3, 2.34, True]\n",
    "\n",
    "kv: dict = {'Ada': 1, 'Lovelock': 2, 'Einstein': 3}\n",
    "sn: set = {1,2,3,4}\n",
    "snb: set = {2,0,1,'a'} #KOLLA IN SET\n",
    "t: tuple = (1,2)\n",
    "t2: tuple = (1,)"
   ]
  },
  {
   "cell_type": "markdown",
   "id": "98a0da83",
   "metadata": {},
   "source": [
    "#Funktioner"
   ]
  },
  {
   "cell_type": "code",
   "execution_count": 14,
   "id": "3035dd6f",
   "metadata": {},
   "outputs": [
    {
     "name": "stdout",
     "output_type": "stream",
     "text": [
      "3.0\n"
     ]
    }
   ],
   "source": [
    "#Pure finction, no side-effect\n",
    "def my_func(a,b,c=1):\n",
    "    \"\"\"This is a docstring\"\"\"\n",
    "    return a*c + b\n",
    "\n",
    "def my_procedur(): #Ska inte ha någon retur (LÄS PÅ)\n",
    "    with open(\"Some_file\") as file:\n",
    "        return file.readlines()\n",
    "    \n",
    "import numpy as np\n",
    "\n",
    "radius = 1.0\n",
    "np.pi = 3 #Helt sjukt men man kan ändra värdet av även redan satta variabler som np.pi ex\n",
    "area = np.pi*np.power(radius, 2)\n",
    "print(area);\n"
   ]
  },
  {
   "cell_type": "markdown",
   "id": "4ec0dd49",
   "metadata": {},
   "source": [
    "Python använder pre rekommendation:\n",
    "\n",
    "snake_case för det mesta, utom klassnamn som skall vara CamelCase. Globala variabler skall vara i versaler (all-caps)."
   ]
  },
  {
   "cell_type": "markdown",
   "id": "4a8c2be4",
   "metadata": {},
   "source": [
    "CamelCase\n",
    "this_is_snake_case\n",
    "kebab-case-looks-like-this\n",
    "looksLikeThis\n",
    "ALLCAPS\n",
    "\n",
    "# Andra språk\n",
    "MyClass.myMethod()\n",
    "\n",
    "aThing = MyClass() \n",
    "\n",
    "# Python\n",
    "\n",
    "MyClass.my_method()\n",
    "\n",
    "a_thing = MyClass()\n"
   ]
  },
  {
   "cell_type": "markdown",
   "id": "27279602",
   "metadata": {},
   "source": [
    "# LISTOR"
   ]
  },
  {
   "cell_type": "code",
   "execution_count": 29,
   "id": "d4f1594f",
   "metadata": {},
   "outputs": [
    {
     "name": "stdout",
     "output_type": "stream",
     "text": [
      "ETTA ÄR\n",
      "[1, 2, 3, 4, 5, 6, 7, 8, 9, 10]\n",
      "DETTA till 5\n",
      "TA ÄR EN STRÄ\n",
      "NÄRTS NE RÄ A röven\n"
     ]
    },
    {
     "data": {
      "text/plain": [
       "(10, [0, 1, 2, 3, 4, 5, 6, 7, 8, 9])"
      ]
     },
     "execution_count": 29,
     "metadata": {},
     "output_type": "execute_result"
    }
   ],
   "source": [
    "A = [0, 1, 2, 3, 4, 5, 6, 7, 8, 9, 10]\n",
    "S = \"DETTA ÄR EN STRÄNG\"\n",
    "#Index slicing\n",
    "print(S[1:8])\n",
    "print(A[1:])\n",
    "print(f\"{S[:5]} till 5\")\n",
    "print(S[3:-2])\n",
    "print(f\"{S[-2:3:-1]} röven\")\n",
    "\n",
    "e = A.pop()\n",
    "#A.append(e)  #KOLLA UPP STACK, #KOLLA UPP VAD SOM HÄNDER HÄR\n",
    "e, A"
   ]
  },
  {
   "cell_type": "markdown",
   "id": "9ab9df72",
   "metadata": {},
   "source": [
    "# List comprehensions"
   ]
  },
  {
   "cell_type": "code",
   "execution_count": null,
   "id": "3ec9e02b",
   "metadata": {},
   "outputs": [
    {
     "name": "stdout",
     "output_type": "stream",
     "text": [
      "[0, 0, 2, 6, 4, 12, 6, 18, 8, 24]\n",
      "[0, 0, 2, 6, 4, 12, 6, 18, 8, 24]\n"
     ]
    }
   ],
   "source": [
    "def f(x):\n",
    "    return x**2\n",
    "\n",
    "list(map(f, [1,2,3,4])) #Kolla upp Map och den här funktionen\n",
    "\n",
    "[f(i) for i in [1,2,3,4]] #Samma sak fast i en list comprehension, smidigt!\n",
    "\n",
    "#Också en list comprehension, lite mer avancerad med villkor. Om talet \n",
    "sqrs = [i*j\n",
    "        for i in range(10)\n",
    "        for j in range(5)\n",
    "        if i %2 == 0 and j %2 != 0]\n",
    "\n",
    "print(sqrs)\n",
    "#Samma sak nedanför som list comprehension\n",
    "sqr_list = list()\n",
    "for i in range(10):\n",
    "    for j in range(5):\n",
    "        if i %2 == 0 and j %2 != 0:\n",
    "            sqr_list.append(i*j)\n",
    "\n",
    "print(sqr_list)\n",
    "\n",
    "#list comprehensions ÄR SÅ jävla smidigt! förstå det."
   ]
  },
  {
   "cell_type": "markdown",
   "id": "13f437d0",
   "metadata": {},
   "source": [
    "# Dictionary\n"
   ]
  },
  {
   "cell_type": "code",
   "execution_count": 60,
   "id": "ea44b0b0",
   "metadata": {},
   "outputs": [
    {
     "name": "stdout",
     "output_type": "stream",
     "text": [
      "1\n",
      "a 1\n",
      "b 2\n",
      "c 3\n",
      "{' Byron': 'Ada', 'Gödel': 'Kurt', 'Turing': 'Alan', 'Church': 'Alonzo'}\n",
      "{' Byron': 'Ada', 'Gödel': 'Kurt', 'Turing': 'Alan', 'Church': 'Alonzo'}\n"
     ]
    }
   ],
   "source": [
    "kv = {'a':1, 'b':2, 'c':3}\n",
    "#Indexed by keys\n",
    "print(kv['a'])\n",
    "\n",
    "for k, v in kv.items():\n",
    "    print(k, v)\n",
    "\n",
    "A = ['Ada', 'Kurt', 'Alan', 'Alonzo']\n",
    "B = [' Byron', 'Gödel', 'Turing', 'Church']\n",
    "\n",
    "computer_scientists = {efternamn:fornamn.strip() for fornamn, efternamn in zip(A,B)}\n",
    "print(dict(zip(B,A)))\n",
    "print(computer_scientists)\n"
   ]
  },
  {
   "cell_type": "code",
   "execution_count": null,
   "id": "4480df43",
   "metadata": {},
   "outputs": [
    {
     "data": {
      "text/plain": [
       "['__new__',\n",
       " '__repr__',\n",
       " '__hash__',\n",
       " '__getattribute__',\n",
       " '__lt__',\n",
       " '__le__',\n",
       " '__eq__',\n",
       " '__ne__',\n",
       " '__gt__',\n",
       " '__ge__',\n",
       " '__iter__',\n",
       " '__init__',\n",
       " '__or__',\n",
       " '__ror__',\n",
       " '__ior__',\n",
       " '__len__',\n",
       " '__getitem__',\n",
       " '__setitem__',\n",
       " '__delitem__',\n",
       " '__contains__',\n",
       " '__sizeof__',\n",
       " 'get',\n",
       " 'setdefault',\n",
       " 'pop',\n",
       " 'popitem',\n",
       " 'keys',\n",
       " 'items',\n",
       " 'values',\n",
       " 'update',\n",
       " 'fromkeys',\n",
       " 'clear',\n",
       " 'copy',\n",
       " '__reversed__',\n",
       " '__class_getitem__',\n",
       " '__doc__',\n",
       " '__str__',\n",
       " '__setattr__',\n",
       " '__delattr__',\n",
       " '__reduce_ex__',\n",
       " '__reduce__',\n",
       " '__getstate__',\n",
       " '__subclasshook__',\n",
       " '__init_subclass__',\n",
       " '__format__',\n",
       " '__dir__',\n",
       " '__class__']"
      ]
     },
     "execution_count": 61,
     "metadata": {},
     "output_type": "execute_result"
    }
   ],
   "source": [
    "dict().__dir__() #Detta visar alla nycklar i dict!"
   ]
  }
 ],
 "metadata": {
  "kernelspec": {
   "display_name": "Python 3",
   "language": "python",
   "name": "python3"
  },
  "language_info": {
   "codemirror_mode": {
    "name": "ipython",
    "version": 3
   },
   "file_extension": ".py",
   "mimetype": "text/x-python",
   "name": "python",
   "nbconvert_exporter": "python",
   "pygments_lexer": "ipython3",
   "version": "3.13.7"
  }
 },
 "nbformat": 4,
 "nbformat_minor": 5
}
