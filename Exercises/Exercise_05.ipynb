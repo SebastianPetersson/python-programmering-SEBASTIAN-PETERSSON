{
 "cells": [
  {
   "cell_type": "markdown",
   "metadata": {},
   "source": [
    "<a href=\"https://colab.research.google.com/github/pr0fez/AI24-Programmering/blob/master/Exercises/05-strings-exercise.ipynb\" target=\"_parent\"><img align=\"left\" src=\"https://colab.research.google.com/assets/colab-badge.svg\" alt=\"Open In Colab\"/></a> &nbsp; to see hints and answers."
   ]
  },
  {
   "cell_type": "markdown",
   "metadata": {},
   "source": [
    "# strings exercises\n",
    "\n",
    "---\n",
    "These are introductory exercises in Python with focus in **strings**.\n",
    "\n",
    "<p class = \"alert alert-info\" role=\"alert\"><b>Remember</b> to use <b>descriptive variable names</b> in order to get readable code </p>\n",
    "\n",
    "<p class = \"alert alert-info\" role=\"alert\"><b>Remember</b> to format your answers in a neat way using <b>f-strings</b>\n",
    "\n",
    "<p class = \"alert alert-info\" role=\"alert\"><b>Remember</b> to format your input questions in a pedagogical way to guide the user\n",
    "\n",
    "The number of stars (\\*), (\\*\\*), (\\*\\*\\*) denotes the difficulty level of the task\n",
    "\n",
    "---"
   ]
  },
  {
   "cell_type": "markdown",
   "metadata": {},
   "source": [
    "## 1. Counting letters (*)\n",
    "\n",
    "Let the user input a word: \n",
    "\n",
    "&nbsp; a) &nbsp; print out the number of letters in the word. (*) \n",
    "  \n",
    "&nbsp; b) &nbsp; print out the number of **uppercase** and **lowercase** letters of the word (*)   \n"
   ]
  },
  {
   "cell_type": "code",
   "execution_count": null,
   "metadata": {},
   "outputs": [
    {
     "name": "stdout",
     "output_type": "stream",
     "text": [
      "Antal bokstäver: 6.\n",
      "Antal versaler: 3.\n",
      "Antal inte versaler: 3.\n"
     ]
    }
   ],
   "source": [
    "word = input(\"Skriv ett valfritt ord: \")\n",
    "uppercase = []\n",
    "lowercase = []\n",
    "\n",
    "\n",
    "for i in word:\n",
    "    if i.isupper():\n",
    "        uppercase.append(i)\n",
    "    elif i.islower():\n",
    "        lowercase.append(i)\n",
    "    else:\n",
    "        continue\n",
    "\n",
    "all_letters = uppercase + lowercase\n",
    "\n",
    "print(f\"Antal bokstäver: {len(all_letters)}.\")\n",
    "print(f\"Antal versaler: {len(uppercase)}.\")\n",
    "print(f\"Antal inte versaler: {len(lowercase)}.\")\n",
    "\n",
    "#Den här versionen tar även hand om alla tecken eller siffror som inte ska räknas, även om användaren skriver dem."
   ]
  },
  {
   "cell_type": "markdown",
   "metadata": {},
   "source": [
    "---\n",
    "## 2. Counting words (*)\n",
    "\n",
    "Count the number of words in this sentence: \"A picture says more than a thousand words, a matematical formula says more than a thousand pictures.\" (*) \n",
    "\n",
    "<details>\n",
    "\n",
    "<summary>Answer</summary>\n",
    "\n",
    "```\n",
    "There are 17 words in that sentence\n",
    "```"
   ]
  },
  {
   "cell_type": "code",
   "execution_count": 1,
   "metadata": {},
   "outputs": [
    {
     "data": {
      "text/plain": [
       "17"
      ]
     },
     "execution_count": 1,
     "metadata": {},
     "output_type": "execute_result"
    }
   ],
   "source": [
    "sentence = \"A picture says more than a thousand words, a mathematical formula says more than a thousand pictures.\"\n",
    "len(sentence.split())"
   ]
  },
  {
   "cell_type": "markdown",
   "metadata": {},
   "source": [
    "---\n",
    "## 3. Palindrome (*)\n",
    "\n",
    "A palindrome is a sequence of characters that is the same, when read forward as backwards (ignoring spaces). For example:\n",
    "- \"Anna\" is a palindrome\n",
    "- \"Ni talar bra latin\"\n",
    "- bjkjb \n",
    "\n",
    "Let the user input a sequence of characters and check if it is a palindrome. (*)"
   ]
  },
  {
   "cell_type": "code",
   "execution_count": 43,
   "metadata": {},
   "outputs": [
    {
     "name": "stdout",
     "output_type": "stream",
     "text": [
      "Ditt ord är en palindrom!\n"
     ]
    }
   ],
   "source": [
    "palindrome = input(\"Skriv in en palindrom: \")\n",
    "palindrome = palindrome.lower()\n",
    "palindrome = palindrome.replace(\" \", \"\")\n",
    "\n",
    "rev = (\"\".join(reversed(palindrome)))\n",
    "\n",
    "# print(palindrome)\n",
    "# print(pal_rev)\n",
    "\n",
    "if rev == palindrome:\n",
    "    print(\"Ditt ord är en palindrom!\")\n",
    "else:\n",
    "    print(\"Ditt ordär inte en palindrom.\")\n",
    "\n",
    "\n",
    "\n",
    "\n"
   ]
  },
  {
   "cell_type": "markdown",
   "metadata": {},
   "source": [
    "---\n",
    "## 4. Vowels (**)\n",
    "\n",
    "Count the number of vowels in this sentence: \"Pure mathematics is, in its way, the poetry of logical ideas\"\n",
    "\n",
    "<details>\n",
    "\n",
    "<summary>Answer</summary>\n",
    "\n",
    "```\n",
    "\n",
    "There are 22 vowels in this sentence\n",
    "\n",
    "```\n",
    "</details>"
   ]
  },
  {
   "cell_type": "code",
   "execution_count": null,
   "metadata": {},
   "outputs": [
    {
     "name": "stdout",
     "output_type": "stream",
     "text": [
      "There are 22 vowels in this sentence.\n"
     ]
    }
   ],
   "source": [
    "# sentence = \"Pure mathematics is, in its way, the poetry of logical ideas\"         #Onödigt.\n",
    "# sentence = sentence.lower().replace(\" \", \"\").replace(\",\",\"\")                      #Onödigt ju.\n",
    "\n",
    "# vowels = [char for char in sentence if char in \"aeiyou\"]                  #Som en list comprehension.\n",
    "\n",
    "vowels = []\n",
    "\n",
    "for char in sentence:\n",
    "    if char in \"aeiyou\":\n",
    "        vowels.append(char)\n",
    "\n",
    "print(f\"There are {len(vowels)} vowels in this sentence.\")\n"
   ]
  },
  {
   "cell_type": "markdown",
   "metadata": {},
   "source": [
    "---\n",
    "## 5. Encryption (**)\n",
    "\n",
    "Let the user input a word and: \n",
    "\n",
    "&nbsp; a) &nbsp; encrypt the message by replacing each letter with the next letter. If the letter is in the end of the alphabet, use the first letter instead. \n",
    "\n",
    "e.g. in Swedish: \"höst\" $\\rightarrow$ \"iatu\"\n",
    "\n",
    "&nbsp; b) &nbsp; decrypt the message\n",
    "\n",
    "&nbsp; c) &nbsp; let the user choose either encryption or decryption."
   ]
  },
  {
   "cell_type": "code",
   "execution_count": null,
   "metadata": {},
   "outputs": [
    {
     "name": "stdout",
     "output_type": "stream",
     "text": [
      "hej på dig\n",
      "['g', 'd', 'i', ' ', 'o', 'ä', ' ', 'c', 'h', 'f']\n"
     ]
    }
   ],
   "source": [
    "#uPPGIFT A)\n",
    "\n",
    "word = input(\"Input a word: \").lower().strip().replace(\",\",\"\").replace(\".\",\"\")\n",
    "crypted = \"\"\n",
    "\n",
    "print(word)\n",
    "\n",
    "for letter in word:\n",
    "    if letter.isalpha():\n",
    "        if letter == \"z\":\n",
    "            crypted += \"a\"\n",
    "        else:\n",
    "            crypted += chr(ord(letter) - 1)\n",
    "    else:\n",
    "        crypted += letter\n",
    "\n",
    "print(crypted)\n",
    "\n",
    "\n",
    "#EJ FÄRDIG"
   ]
  },
  {
   "cell_type": "markdown",
   "metadata": {},
   "source": [
    "---\n",
    "\n",
    "pr0fez Giang\n",
    "\n",
    "[LinkedIn][linkedIn_pr0fez]\n",
    "\n",
    "[GitHub portfolio][github_portfolio]\n",
    "\n",
    "[linkedIn_pr0fez]: https://www.linkedin.com/in/pr0fezgiang/\n",
    "[github_portfolio]: https://github.com/pr0fez/Portfolio-pr0fez-Giang\n",
    "\n",
    "---"
   ]
  }
 ],
 "metadata": {
  "kernelspec": {
   "display_name": "Python 3",
   "language": "python",
   "name": "python3"
  },
  "language_info": {
   "codemirror_mode": {
    "name": "ipython",
    "version": 3
   },
   "file_extension": ".py",
   "mimetype": "text/x-python",
   "name": "python",
   "nbconvert_exporter": "python",
   "pygments_lexer": "ipython3",
   "version": "3.13.7"
  },
  "orig_nbformat": 4
 },
 "nbformat": 4,
 "nbformat_minor": 2
}
