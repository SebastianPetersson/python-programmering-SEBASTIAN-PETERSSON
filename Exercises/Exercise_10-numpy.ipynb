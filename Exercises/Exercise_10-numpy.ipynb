{
 "cells": [
  {
   "cell_type": "markdown",
   "metadata": {},
   "source": [
    "<a href=\"https://colab.research.google.com/github/pr0fez/AI24-Programmering/blob/master/Exercises/E10-numpy.ipynb\" target=\"_parent\"><img align=\"left\" src=\"https://colab.research.google.com/assets/colab-badge.svg\" alt=\"Open In Colab\"/></a> &nbsp; to see hints and answers."
   ]
  },
  {
   "cell_type": "markdown",
   "metadata": {},
   "source": [
    "# Numpy exercises\n",
    "\n",
    "---\n",
    "These are introductory exercises in Python with focus in **Numpy**.\n",
    "\n",
    "<p class = \"alert alert-info\" role=\"alert\"><b>Remember</b> to use <b>descriptive variable names</b> in order to get readable code </p>\n",
    "\n",
    "<p class = \"alert alert-info\" role=\"alert\"><b>Remember</b> to format your answers in a neat way using <b>f-strings</b>\n",
    "\n",
    "<p class = \"alert alert-info\" role=\"alert\"><b>Remember</b> to format your input questions in a pedagogical way to guide the user\n",
    "\n",
    "The number of stars (\\*), (\\*\\*), (\\*\\*\\*) denotes the difficulty level of the task\n",
    "\n",
    "---"
   ]
  },
  {
   "cell_type": "markdown",
   "metadata": {},
   "source": [
    "## 1. Dice simulations (*)\n",
    "\n",
    "Simulations of one die,  \n",
    "\n",
    "&nbsp; a) Calculate theoretical mean of a dice (six-sided) (*)\n",
    "\n",
    "&nbsp; b) Now do simulations of\n",
    "\n",
    "- 10\n",
    "- 100\n",
    "- 1000\n",
    "- 10000\n",
    "- 100000\n",
    "- 1000000\n",
    "- 10000000\n",
    "\n",
    "number of dices and plot their means. (*)\n",
    "\n",
    "<details>\n",
    "\n",
    "<summary>Answer </summary>\n",
    "\n",
    "a)\n",
    "```\n",
    "3.5\n",
    "```\n",
    "\n",
    "b) \n",
    "\n",
    "<img src=\"../assets/numpy_1b.png\" width = 300>\n",
    "\n",
    "</details>\n",
    "\n",
    "\n"
   ]
  },
  {
   "cell_type": "code",
   "execution_count": null,
   "metadata": {},
   "outputs": [
    {
     "name": "stdout",
     "output_type": "stream",
     "text": [
      "The mean of a six-sides dices all faces is 3.5\n"
     ]
    },
    {
     "data": {
      "text/plain": [
       "[<matplotlib.lines.Line2D at 0x1e5280b6fd0>]"
      ]
     },
     "execution_count": 37,
     "metadata": {},
     "output_type": "execute_result"
    },
    {
     "data": {
      "image/png": "[encoded data removed]",
      "text/plain": [
       "<Figure size 640x480 with 1 Axes>"
      ]
     },
     "metadata": {},
     "output_type": "display_data"
    }
   ],
   "source": [
    "# import numpy as np\n",
    "# import matplotlib.pyplot as plt\n",
    "\n",
    "# dice_faces = np.mean([1, 2, 3, 4, 5, 6])\n",
    "# print(f\"The mean of a six-sides dices all faces is {dice_faces}\")\n",
    "\n",
    "# throws = [10, 100, 1000, 10000, 100000, 1000000, 10000000]\n",
    "# results = []\n",
    "# for throw_count in throws:\n",
    "#     result = np.random.randint(1, 7, size=throw_count)\n",
    "#     mean = np.mean(result)\n",
    "#     results.append(mean)\n",
    "    \n",
    "# x = [i+1 for i in range(len(results))]\n",
    "\n",
    "# plt.plot(x, results)\n"
   ]
  },
  {
   "cell_type": "markdown",
   "metadata": {},
   "source": [
    "--- \n",
    "## 2. Several dices (**)\n",
    "\n",
    "&nbsp; a) Make a sample space for the sum of two dices, i.e. all possible outcomes of these dices. (*)\n",
    "\n",
    "&nbsp; b) Count the number of each values in the sample space (*)\n",
    "\n",
    "&nbsp; c) Now calculate the frequency $f_i$ for each unique value. Also check that the sum of frequencies sums to 1, i.e. $\\sum_i f_i = 1$. (*)\n",
    "\n",
    "&nbsp; d) Make a bar chart of the sum of two dices, with frequencies in y and unique values in x. This is a probability distribution of the sum of your two dices. (*)\n",
    "\n",
    "&nbsp; e) Now make barplots in subplots of sum of dices for 1 dice, 2 dices, 3 dices and 4 dices. What is the pattern that you see? (**)\n",
    "\n",
    "<details>\n",
    "\n",
    "<summary>Hint</summary>\n",
    "\n",
    "a) \n",
    "\n",
    "Here are some potentially useful methods:\n",
    "\n",
    "```py\n",
    "\n",
    "np.meshgrid(), np.add.reduce(), np.unique()\n",
    "\n",
    "```\n",
    "\n",
    "c)\n",
    "\n",
    "Divide by the total number of outcomes\n",
    "\n",
    "\n",
    "</details>\n",
    "\n",
    "<details>\n",
    "\n",
    "<summary>Answer</summary>\n",
    "\n",
    "\n",
    "a) \n",
    "\n",
    "Sample space\n",
    "\n",
    "```\n",
    "[[ 2  3  4  5  6  7]\n",
    " [ 3  4  5  6  7  8]\n",
    " [ 4  5  6  7  8  9]\n",
    " [ 5  6  7  8  9 10]\n",
    " [ 6  7  8  9 10 11]\n",
    " [ 7  8  9 10 11 12]]\n",
    "```\n",
    "\n",
    "b) \n",
    "\n",
    "Unique values:\n",
    "```\n",
    "[ 2  3  4  5  6  7  8  9 10 11 12]\n",
    "```\n",
    "\n",
    "Count: \n",
    "```\n",
    "[1 2 3 4 5 6 5 4 3 2 1]\n",
    "```\n",
    "\n",
    "c)\n",
    "\n",
    "```\n",
    "[0.028 0.056 0.083 0.111 0.139 0.167 0.139 0.111 0.083 0.056 0.028]\n",
    "```\n",
    "\n",
    "d) \n",
    "\n",
    "\n",
    "<img src=\"../assets/numpy2d.png\" width = 300>\n",
    "\n",
    "\n",
    "e) \n",
    "\n",
    "<img src=\"../assets/numpy2e.png\" width = 500>\n",
    "\n",
    "\n",
    "We see that when we sum several uniformly distributed random variables we will approach the normal distribution. This is called the central limit theorem, which we will come back to in the statistics course.\n",
    "\n",
    "</details>"
   ]
  },
  {
   "cell_type": "code",
   "execution_count": null,
   "metadata": {},
   "outputs": [
    {
     "ename": "TypeError",
     "evalue": "'int' object is not callable",
     "output_type": "error",
     "traceback": [
      "\u001b[31m---------------------------------------------------------------------------\u001b[39m",
      "\u001b[31mTypeError\u001b[39m                                 Traceback (most recent call last)",
      "\u001b[36mCell\u001b[39m\u001b[36m \u001b[39m\u001b[32mIn[62]\u001b[39m\u001b[32m, line 1\u001b[39m\n\u001b[32m----> \u001b[39m\u001b[32m1\u001b[39m sample_space = np.array([\u001b[38;5;28;43msum\u001b[39;49m\u001b[43m(\u001b[49m\u001b[43m(\u001b[49m\u001b[43ma\u001b[49m\u001b[43m,\u001b[49m\u001b[43mb\u001b[49m\u001b[43m)\u001b[49m\u001b[43m)\u001b[49m \u001b[38;5;28;01mfor\u001b[39;00m a \u001b[38;5;129;01min\u001b[39;00m \u001b[38;5;28mrange\u001b[39m(\u001b[32m1\u001b[39m,\u001b[32m7\u001b[39m) \u001b[38;5;28;01mfor\u001b[39;00m b \u001b[38;5;129;01min\u001b[39;00m \u001b[38;5;28mrange\u001b[39m(\u001b[32m1\u001b[39m,\u001b[32m7\u001b[39m)])\n",
      "\u001b[31mTypeError\u001b[39m: 'int' object is not callable"
     ]
    }
   ],
   "source": [
    "def sample_space_1d6():\n",
    "    sample_space = np.array([sum((a)) for a in range(1,7)])\n",
    "    return [len(sample_space), [len(sample_space[sample_space==n]) for n in range (2, 13)]\n",
    "            \n",
    "def sample_space_2d6():\n",
    "    sample_space = np.array([sum((a,b)) for a in range(1,7) for b in range (1,7)])\n",
    "    return [len(sample_space), [len(sample_space[sample_space==n]) for n in range (2, 13)]\n",
    "\n",
    "def sample_space_3d6():\n",
    "    sample_space = np.array([sum((a,b, c)) for a in range(1,7) for b in range (1,7) for c in range(1,7)])\n",
    "    return [len(sample_space), [len(sample_space[sample_space==n]) for n in range (3, 19)]\n",
    "            \n",
    "def sample_space_4d6():\n",
    "    sample_space = np.array([sum((a,b,c,d)) for a in range(1,7) for b in range (1,7) for c in range(1,7) for d in range(1,7)])\n",
    "    return [len(sample_space), [len(sample_space[sample_space==n]) for n in range (4, 25)]\n",
    "\n",
    "sample_size_2d6, counts2d6 = sample_space\n",
    "counts = sample_space_nd6"
   ]
  },
  {
   "cell_type": "markdown",
   "metadata": {},
   "source": [
    "--- \n",
    "## 3. Monte Carlo simulation (**)\n",
    "\n",
    "This task has been done in earlier exercise, but now you should do this without any loops. Note that this has enormous performance gain compared to using loops. \n",
    "\n",
    "&nbsp; a) Simulate 500000 uniformly distributed points between -1 and 1, $X\\sim U(-1,1)$. Now calculate the Euclidean distances between each point and the origin (0,0), $d_i = \\sqrt{x_i^2 + y_i^2}$. For $d_i < 1$ plot the point with one color, and for $d_i > 1$ plot the point in another color, $i = \\{1,\\ldots, 500000\\}$.  (**)\n",
    "\n",
    "&nbsp; b) Calculate the fraction between number of inner points and number of outer points. What do you this will converge to when number of points reaches infinity? (**)\n",
    "\n",
    "\n",
    "<details>\n",
    "\n",
    "<summary>Hint</summary>\n",
    "\n",
    "a) \n",
    "\n",
    "Read about numpy random and see if there are some useful methods to use. Also read about \n",
    "\n",
    "```\n",
    "np.linalg.norm()\n",
    "```\n",
    "\n",
    "b)\n",
    "\n",
    "Think in terms of theoretical areas.\n",
    "\n",
    "</details>\n",
    "\n",
    "<details>\n",
    "\n",
    "<summary>Answer</summary>\n",
    "\n",
    "\n",
    "a) \n",
    "\n",
    "<img src=\"../assets/MC_simulation_500k.png\" width = 300>\n",
    "\n",
    "\n",
    "b) \n",
    "\n",
    "0.784724\n",
    "\n",
    "No answer here, try to prove it theoretically. \n",
    "\n",
    "\n",
    "</details>"
   ]
  },
  {
   "cell_type": "code",
   "execution_count": 113,
   "metadata": {},
   "outputs": [
    {
     "name": "stdout",
     "output_type": "stream",
     "text": [
      "Fraction is 0.785468 which is 0.25 pi.\n"
     ]
    }
   ],
   "source": [
    "import numpy as np\n",
    "import matplotlib.pyplot as plt\n",
    "\n",
    "# x = np.random.uniform(-1, 1, 500000)\n",
    "# y = np.random.uniform(-1, 1, 500000)\n",
    "# distance = np.sqrt(x**2 + y**2)\n",
    "# inside_circle = distance <= 1\n",
    "\n",
    "# pi_approx = 4 * np.sum(inside_circle)/len(x)\n",
    "# print('Approximation av pi', pi_approx)\n",
    "\n",
    "# plt.scatter(x[inside_circle], y[inside_circle], color = 'crimson', s = 0.005)\n",
    "# plt.scatter(x[~inside_circle], y[~inside_circle], color = 'navy', s = 0.005)\n",
    "# plt.axis('equal')\n",
    "\n",
    "\n",
    "#Raffas version:\n",
    "rng = np.random.default_rng()\n",
    "n = 500000\n",
    "C = rng.uniform(-1, 1, (2,n))\n",
    "D = np.linalg.norm(C, axis = 0)\n",
    "d_lt = D[D<1]\n",
    "d_gt = D[D>1]\n",
    "\n",
    "fraction = len(d_lt)/n\n",
    "print(f\"Fraction is {fraction} which is {fraction/np.pi:0.2f} pi.\")\n",
    "\n"
   ]
  },
  {
   "cell_type": "markdown",
   "metadata": {},
   "source": [
    "---\n",
    "\n",
    "pr0fez Giang\n",
    "\n",
    "[LinkedIn][linkedIn_pr0fez]\n",
    "\n",
    "[GitHub portfolio][github_portfolio]\n",
    "\n",
    "[linkedIn_pr0fez]: https://www.linkedin.com/in/pr0fezgiang/\n",
    "[github_portfolio]: https://github.com/pr0fez/Portfolio-pr0fez-Giang\n",
    "\n",
    "---"
   ]
  }
 ],
 "metadata": {
  "kernelspec": {
   "display_name": "Python 3",
   "language": "python",
   "name": "python3"
  },
  "language_info": {
   "codemirror_mode": {
    "name": "ipython",
    "version": 3
   },
   "file_extension": ".py",
   "mimetype": "text/x-python",
   "name": "python",
   "nbconvert_exporter": "python",
   "pygments_lexer": "ipython3",
   "version": "3.13.7"
  },
  "orig_nbformat": 4
 },
 "nbformat": 4,
 "nbformat_minor": 2
}
